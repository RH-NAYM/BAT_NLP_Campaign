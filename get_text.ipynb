{
 "cells": [
  {
   "cell_type": "code",
   "execution_count": 28,
   "metadata": {},
   "outputs": [],
   "source": [
    "import re\n",
    "from updated_api import *\n",
    "from typing_extensions import Annotated\n",
    "import nltk\n",
    "from nltk.corpus import stopwords\n",
    "from nltk.stem import WordNetLemmatizer\n",
    "import string"
   ]
  },
  {
   "cell_type": "code",
   "execution_count": 29,
   "metadata": {},
   "outputs": [],
   "source": [
    "# nltk.download('punkt')\n",
    "# nltk.download('stopwords')\n",
    "# nltk.download('wordnet')"
   ]
  },
  {
   "cell_type": "code",
   "execution_count": 30,
   "metadata": {},
   "outputs": [],
   "source": [
    "patterns = {\n",
    "    'Unique Capsule': r\"\\b(?:uni(?:que)?|unit|uniq\\.+|uni\\.+)\\s*capsul\",\n",
    "    'Refreshing Taste and Smell': r\"\\b(?:refreshing|ripe|repressing)\\s+(?:taste\\s+(?:smell|milk)|test\\s+smell)\",\n",
    "    'Benson & Hadges Breeze':r\"\\b(?:(b.*?son)\\s+(h(?:.*?))\\s+(br))\",\n",
    "}\n"
   ]
  },
  {
   "cell_type": "code",
   "execution_count": 31,
   "metadata": {},
   "outputs": [],
   "source": [
    "def nlp_bat(text):\n",
    "    results = {}\n",
    "    all_match = {}\n",
    "    for name, pattern in patterns.items():\n",
    "        matches = re.compile(pattern, text, re.IGNORECASE)\n",
    "        m = {name:matches}\n",
    "        all_match.update(m)\n",
    "        count = len(matches)\n",
    "        results[name] = count\n",
    "    \n",
    "    \n",
    "    print(all_match)    \n",
    "\n",
    "    return results"
   ]
  },
  {
   "cell_type": "code",
   "execution_count": 81,
   "metadata": {},
   "outputs": [
    {
     "name": "stdout",
     "output_type": "stream",
     "text": [
      "Processing Audio\n",
      "main text :  Apnijani koshi hobanjay benson and Hedges nishache ikti unique capsule offer Benson and Hedges bridge benson and Hedges bridger capsule egdomic notunde refreshing taste and smell. Aridaron of a trial corajona apneki trial kit nitaparanova.\n",
      "Clean text :  apnijani koshi hobanjay benson hedge nishache ikti unique capsule offer benson hedge bridge benson hedge bridger capsule egdomic notunde refreshing taste smell aridaron trial corajona apneki trial kit nitaparanova\n",
      "{'Unique Capsule': ['unique capsul'], 'Refreshing Taste and Smell': ['refreshing taste smell'], 'Benson & Hadges Breeze': [('benson', 'hedge nishache ikti unique capsule offer benson hedge', 'br'), ('benson', 'hedge', 'br')]}\n"
     ]
    },
    {
     "data": {
      "text/plain": [
       "{'Unique Capsule': 1,\n",
       " 'Refreshing Taste and Smell': 1,\n",
       " 'Benson & Hadges Breeze': 2}"
      ]
     },
     "execution_count": 81,
     "metadata": {},
     "output_type": "execute_result"
    }
   ],
   "source": [
    "filename = input(\"Give Audio Name: \")\n",
    "audio_url = upload(filename)\n",
    "\n",
    "detect_audio(audio_url, 'file_title')"
   ]
  },
  {
   "cell_type": "code",
   "execution_count": null,
   "metadata": {},
   "outputs": [],
   "source": [
    "patterns = {\n",
    "    'Unique Capsule': r\"unique capsul|unit capsul|uniq...capsul|uni..capsul\\b\",\n",
    "    'Refreshing Taste and Smell': r\"refreshing taste smell|refreshing taste milk|refreshing test smell|ripe singh taste|repressing taste smell\\b\",\n",
    "    'Benson & Hadges Breeze': r\"benson.hage.bree|benson.hage..bree|banson.hage.bree|banson.hage..bree|benson he.es breez|benson hess breez|benson he..e breez|benson haze breez|benson hezes bee|banson breez|banson hedge breathe|banson hedge bridge|benson hedge bre|benson hedge bridge| benson haze brie|banson haze breeze|banson hedge breez\\b\",\n",
    "}"
   ]
  },
  {
   "cell_type": "code",
   "execution_count": null,
   "metadata": {},
   "outputs": [],
   "source": [
    "patterns = {\n",
    "    'Unique Capsule': r\"\\b(?:uni(?:que)?|unit|uniq\\.+|uni\\.+)\\s*capsul\",\n",
    "    'Refreshing Taste and Smell': r\"\\b(?:refreshing|ripe|repressing)\\s+(?:taste\\s+(?:smell|milk)|test\\s+smell)\",\n",
    "    'Benson & Hadges Breeze':r\"\\b(?:benson\\s+h(?:ess|aze|ezes|edge)\\s+breez|banson\\s+(?:haze\\s+breez|hedge\\s+(?:breez|bre))|benson\\s+h(?:aze\\s+brie|edge\\s+bridge))\",\n",
    "}"
   ]
  },
  {
   "cell_type": "code",
   "execution_count": 70,
   "metadata": {},
   "outputs": [],
   "source": [
    "patterns = {\n",
    "    'Unique Capsule': r\"\\b(?:uni(?:que)?|unit|uniq\\.+|uni\\.+)\\s*capsul\",\n",
    "    'Refreshing Taste and Smell': r\"\\b(?:refreshing|ripe|repressing)\\s+(?:taste\\s+(?:smell|milk)|test\\s+smell)\",\n",
    "    'Benson & Hadges Breeze':r\"\\b(?:(b.*?son)\\s+(h(?:.*?))\\s+(br))\",\n",
    "}"
   ]
  },
  {
   "cell_type": "code",
   "execution_count": 71,
   "metadata": {},
   "outputs": [],
   "source": [
    "def nlp_bat(text):\n",
    "    results = {}\n",
    "    all_match = {}\n",
    "    for name, pattern in patterns.items():\n",
    "        matches = re.findall(pattern, text, re.IGNORECASE)\n",
    "        m = {name:matches}\n",
    "        all_match.update(m)\n",
    "        count = len(matches)\n",
    "        results[name] = count\n",
    "    \n",
    "    \n",
    "    print(all_match)    \n",
    "\n",
    "    return results"
   ]
  },
  {
   "cell_type": "code",
   "execution_count": 72,
   "metadata": {},
   "outputs": [
    {
     "name": "stdout",
     "output_type": "stream",
     "text": [
      "{'Unique Capsule': ['unique capsul'], 'Refreshing Taste and Smell': [], 'Benson & Hadges Breeze': [('benson', 'hedge nih unique capsule offer janam hoche benson hedge', 'br'), ('benson', 'hedge', 'br')]}\n"
     ]
    },
    {
     "data": {
      "text/plain": [
       "{'Unique Capsule': 1,\n",
       " 'Refreshing Taste and Smell': 0,\n",
       " 'Benson & Hadges Breeze': 2}"
      ]
     },
     "execution_count": 72,
     "metadata": {},
     "output_type": "execute_result"
    }
   ],
   "source": [
    "text = \"Clean text :  benson hedge nih unique capsule offer janam hoche benson hedge bridge benson hedge bridger capsule ache egdomic notul thorne refreshing smell taste trial kidney barin donova\"\n",
    "\n",
    "nlp_bat(text)\n"
   ]
  },
  {
   "cell_type": "code",
   "execution_count": null,
   "metadata": {},
   "outputs": [],
   "source": []
  }
 ],
 "metadata": {
  "kernelspec": {
   "display_name": "nlpBat",
   "language": "python",
   "name": "python3"
  },
  "language_info": {
   "codemirror_mode": {
    "name": "ipython",
    "version": 3
   },
   "file_extension": ".py",
   "mimetype": "text/x-python",
   "name": "python",
   "nbconvert_exporter": "python",
   "pygments_lexer": "ipython3",
   "version": "3.10.13"
  }
 },
 "nbformat": 4,
 "nbformat_minor": 2
}
