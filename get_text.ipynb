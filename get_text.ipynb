{
 "cells": [
  {
   "cell_type": "code",
   "execution_count": 1,
   "metadata": {},
   "outputs": [],
   "source": [
    "import re\n",
    "from nlp_api import *\n",
    "from typing_extensions import Annotated\n",
    "import nltk\n",
    "from nltk.corpus import stopwords\n",
    "from nltk.stem import WordNetLemmatizer\n",
    "import string"
   ]
  },
  {
   "cell_type": "code",
   "execution_count": 2,
   "metadata": {},
   "outputs": [],
   "source": [
    "# nltk.download('punkt')\n",
    "# nltk.download('stopwords')\n",
    "# nltk.download('wordnet')"
   ]
  },
  {
   "cell_type": "code",
   "execution_count": 3,
   "metadata": {},
   "outputs": [],
   "source": [
    "patterns = {\n",
    "    'smoker': r\"sm.k.r|s.m.k.r\\b\",\n",
    "    'dhumpai': r\"d.m.a.|d..mp..|.om.a.|umpa.\\b\",\n",
    "    'alchemy': r\"al.k.m|.lch.m.\\b\",\n",
    "    'benson': r\"..ns.n\\b\",\n",
    "    'goldleaf': r\"go.lb|gol..lea.|g.l...|g.l../b\",\n",
    "    'dunhil': r\"d.n.h.l|d.nh.l|.an.i.l|.an.i.l\\b\",\n",
    "    'smooth': r\".m..th|sm.d\\b\",\n",
    "    'thanda_flvr': r\"th.nd..fl.v|t.nd...fl.v|th.nd...fl.v|t.nd..fl.v|..de.fl.v|.and..fl.v|..anda.fl..\\b\",\n",
    "    'best_tobacco': r\".est.t.b..|.est..a.o|.est.o.a.o|.est.o.\\b\"\n",
    "}"
   ]
  },
  {
   "cell_type": "code",
   "execution_count": 4,
   "metadata": {},
   "outputs": [],
   "source": [
    "def nlp_bat(text):\n",
    "    results = {}\n",
    "    all_match = {}\n",
    "    for name, pattern in patterns.items():\n",
    "        matches = re.findall(pattern, text, re.IGNORECASE)\n",
    "        m = {name:matches}\n",
    "        all_match.update(m)\n",
    "        count = len(matches)\n",
    "        results[name] = count\n",
    "    \n",
    "    \n",
    "    print(all_match)    \n",
    "\n",
    "    return results"
   ]
  },
  {
   "cell_type": "code",
   "execution_count": 5,
   "metadata": {},
   "outputs": [
    {
     "name": "stdout",
     "output_type": "stream",
     "text": [
      "Processing Audio\n",
      "kushir cover kushir cover benson hezes nih unique capsule janum benson hess breeze aprajanara kushiha benjay capsule roche egg thorne refreshing taste smell arapnajudiya trial kotachan tahal ajinita barnekti trial kit donnabat\n",
      "{'smoker': [], 'dhumpai': [], 'alchemy': [], 'benson': ['benson', 'benson'], 'goldleaf': [], 'dunhil': [], 'smooth': [], 'thanda_flvr': [], 'best_tobacco': []}\n"
     ]
    },
    {
     "data": {
      "text/plain": [
       "{'smoker': 0,\n",
       " 'dhumpai': 0,\n",
       " 'alchemy': 0,\n",
       " 'benson': 2,\n",
       " 'goldleaf': 0,\n",
       " 'dunhil': 0,\n",
       " 'smooth': 0,\n",
       " 'thanda_flvr': 0,\n",
       " 'best_tobacco': 0}"
      ]
     },
     "execution_count": 5,
     "metadata": {},
     "output_type": "execute_result"
    }
   ],
   "source": [
    "filename = input(\"Give Audio Name: \")\n",
    "audio_url = upload(filename)\n",
    "\n",
    "detect_audio(audio_url, 'file_title')"
   ]
  },
  {
   "cell_type": "code",
   "execution_count": null,
   "metadata": {},
   "outputs": [],
   "source": []
  },
  {
   "cell_type": "code",
   "execution_count": null,
   "metadata": {},
   "outputs": [],
   "source": []
  },
  {
   "cell_type": "code",
   "execution_count": null,
   "metadata": {},
   "outputs": [],
   "source": []
  }
 ],
 "metadata": {
  "kernelspec": {
   "display_name": "nlpBat",
   "language": "python",
   "name": "python3"
  },
  "language_info": {
   "codemirror_mode": {
    "name": "ipython",
    "version": 3
   },
   "file_extension": ".py",
   "mimetype": "text/x-python",
   "name": "python",
   "nbconvert_exporter": "python",
   "pygments_lexer": "ipython3",
   "version": "3.10.13"
  }
 },
 "nbformat": 4,
 "nbformat_minor": 2
}
