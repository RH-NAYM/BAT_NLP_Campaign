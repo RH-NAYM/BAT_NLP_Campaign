{
 "cells": [
  {
   "cell_type": "code",
   "execution_count": 1,
   "metadata": {},
   "outputs": [],
   "source": [
    "import re\n",
    "from nlp_api import *\n",
    "from typing_extensions import Annotated\n",
    "import nltk\n",
    "from nltk.corpus import stopwords\n",
    "from nltk.stem import WordNetLemmatizer\n",
    "import string"
   ]
  },
  {
   "cell_type": "code",
   "execution_count": 2,
   "metadata": {},
   "outputs": [],
   "source": [
    "# nltk.download('punkt')\n",
    "# nltk.download('stopwords')\n",
    "# nltk.download('wordnet')"
   ]
  },
  {
   "cell_type": "code",
   "execution_count": 3,
   "metadata": {},
   "outputs": [],
   "source": [
    "patterns = {\n",
    "    'Unique Capsule': r'\\b(?:uni(?:que)?|unit|uniq\\.+|uni\\.+)\\s*capsul\\b',\n",
    "    'Refreshing Taste and Smell': r'\\b(?:refreshing|ripe|repressing)\\s+(?:taste\\s+(?:smell|milk)|test\\s+smell)\\b',\n",
    "    'Benson & Hadges Breeze': r'\\b(?:benson\\s+h(?:ess|aze|ezes|edge)\\s+breez|banson\\s+(?:haze\\s+breez|hedge\\s+(?:breez|bre))|benson\\s+h(?:aze\\s+brie|edge\\s+bridge))\\b',\n",
    "}"
   ]
  },
  {
   "cell_type": "code",
   "execution_count": 4,
   "metadata": {},
   "outputs": [],
   "source": [
    "def nlp_bat(text):\n",
    "    results = {}\n",
    "    all_match = {}\n",
    "    for name, pattern in patterns.items():\n",
    "        matches = re.findall(pattern, text, re.IGNORECASE)\n",
    "        m = {name:matches}\n",
    "        all_match.update(m)\n",
    "        count = len(matches)\n",
    "        results[name] = count\n",
    "    \n",
    "    \n",
    "    print(all_match)    \n",
    "\n",
    "    return results"
   ]
  },
  {
   "cell_type": "code",
   "execution_count": 5,
   "metadata": {},
   "outputs": [
    {
     "name": "stdout",
     "output_type": "stream",
     "text": [
      "Processing Audio\n",
      "Processing Audio\n",
      "hygiene kushihavan j benson haze nihakti unique capsule offer benson haze breeze benson hazard breeze capsule ache refreshing test smell ara dharuna trial court apnea trial kidney taparam\n",
      "{'Unique Capsule': ['unique capsul'], 'Refreshing Taste and Smell': ['refreshing test smell'], 'Benson & Hadges Breeze': ['benson haze breez']}\n"
     ]
    },
    {
     "data": {
      "text/plain": [
       "{'Unique Capsule': 1,\n",
       " 'Refreshing Taste and Smell': 1,\n",
       " 'Benson & Hadges Breeze': 1}"
      ]
     },
     "execution_count": 5,
     "metadata": {},
     "output_type": "execute_result"
    }
   ],
   "source": [
    "filename = input(\"Give Audio Name: \")\n",
    "audio_url = upload(filename)\n",
    "\n",
    "detect_audio(audio_url, 'file_title')"
   ]
  },
  {
   "cell_type": "code",
   "execution_count": null,
   "metadata": {},
   "outputs": [],
   "source": []
  },
  {
   "cell_type": "code",
   "execution_count": null,
   "metadata": {},
   "outputs": [],
   "source": []
  },
  {
   "cell_type": "code",
   "execution_count": null,
   "metadata": {},
   "outputs": [],
   "source": []
  }
 ],
 "metadata": {
  "kernelspec": {
   "display_name": "nlpBat",
   "language": "python",
   "name": "python3"
  },
  "language_info": {
   "codemirror_mode": {
    "name": "ipython",
    "version": 3
   },
   "file_extension": ".py",
   "mimetype": "text/x-python",
   "name": "python",
   "nbconvert_exporter": "python",
   "pygments_lexer": "ipython3",
   "version": "3.10.13"
  }
 },
 "nbformat": 4,
 "nbformat_minor": 2
}
